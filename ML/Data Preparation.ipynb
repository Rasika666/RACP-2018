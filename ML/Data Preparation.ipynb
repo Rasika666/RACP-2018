{
 "cells": [
  {
   "cell_type": "code",
   "execution_count": 3,
   "metadata": {},
   "outputs": [],
   "source": [
    "import pandas as pd"
   ]
  },
  {
   "cell_type": "code",
   "execution_count": 18,
   "metadata": {},
   "outputs": [],
   "source": [
    "classes = ['vehicle', 'property', 'electronic', 'education']"
   ]
  },
  {
   "cell_type": "code",
   "execution_count": 34,
   "metadata": {},
   "outputs": [
    {
     "name": "stdout",
     "output_type": "stream",
     "text": [
      "8 file processed in  vehicle\n",
      "8 file processed in  property\n",
      "8 file processed in  electronic\n",
      "8 file processed in  education\n",
      "32  total file processed\n",
      "740\n"
     ]
    }
   ],
   "source": [
    "import os, re\n",
    "root = './ad_data/'\n",
    "#root_content = os.listdir(root)\n",
    "dic = {}\n",
    "j = 0\n",
    "i = 0\n",
    "for elem in classes:\n",
    "    path = os.path.join(root,elem)\n",
    "    folder_content = os.listdir(path)\n",
    "    j = 0\n",
    "    #print(path, folder_content)\n",
    "    for file in folder_content:\n",
    "        newpath = os.path.join(path,file)\n",
    "        content = open(newpath, encoding=\"utf8\").read()\n",
    "        words = re.split('[^a-zA-Z]',content)\n",
    "        \n",
    "        new_wordlist = []\n",
    "        for w in words:\n",
    "            if len(w) > 1:\n",
    "                new_wordlist.append(w.strip().lower())\n",
    "        \n",
    "        # unique world list\n",
    "        for w in new_wordlist:\n",
    "            if w not in dic:\n",
    "                dic[w] = 1\n",
    "                \n",
    "        # data spliting\n",
    "        j = j+1\n",
    "        i = i+1\n",
    "        if(j == 8):\n",
    "            break\n",
    "        \n",
    "    print(j, \"file processed in \", elem)\n",
    "print(i, \" total file processed\")\n",
    "print(len(dic))\n",
    "        \n",
    "        \n",
    "        #print(new_wordlist)\n",
    "        \n",
    "        #print(content)"
   ]
  },
  {
   "cell_type": "code",
   "execution_count": 43,
   "metadata": {},
   "outputs": [
    {
     "name": "stdout",
     "output_type": "stream",
     "text": [
      "{'brand': 1, 'new': 1, 'black': 1, 'saphire': 1, 'auto': 1, 'revesre': 1, 'camera': 1, 'beige': 1, 'interior': 1, 'softly': 1, 'used': 1, 'milage': 1, 'km': 1, 'am': 1, 'engineer': 1, 'selling': 1, 'due': 1, 'to': 1, 'going': 1, 'abroad': 1, 'soon': 1}\n",
      "{'wagon': 1, 'hybrid': 1, 'white': 1, 'for': 7, 'rent': 2, 'long': 2, 'or': 1, 'short': 1, 'term': 2, 'preferred': 1, 'cax': 1, 'xx': 1, 'power': 1, 'mirrors': 1, 'shutters': 1, 'dvd': 1, 'player': 1, 'per': 6, 'day': 1, 'rs': 8, 'km': 6, 'additional': 3, 'week': 2, 'month': 2, 'refundable': 1, 'deposit': 2, 'required': 1, 'should': 2, 'be': 1, 'made': 1, 'at': 1, 'the': 2, 'beginning': 1, 'of': 2, 'period': 1, 'possess': 1, 'valid': 1, 'driving': 1, 'licence': 1, 'nic': 1, 'billing': 1, 'proof': 1, 'water': 1, 'ele': 1, 'details': 1, 'referee': 1}\n",
      "{'sparingly': 1, 'used': 1, 'as': 1, 'third': 1, 'car': 1, 'in': 1, 'mint': 1, 'condition': 1, 'with': 1, 'new': 2, 'tyres': 1, 'and': 1, 'setup': 1}\n",
      "{'full': 1, 'option': 1, 'all': 1, 'accessories': 1, 'are': 1, 'as': 1, 'imported': 1, 'from': 1, 'japan': 1, 'genuine': 1, 'millage': 1, 'brand': 1, 'new': 1, 'urgent': 1, 'sale': 2, 'exchange': 1, 'delivery': 1, 'type': 1, 'van': 1, 'like': 1, 'suzuki': 1, 'avery': 1, 'or': 1, 'same': 1, 'models': 1, 'registered': 1, 'second': 1, 'owner': 1, 'the': 1, 'book': 3, 'is': 1, 'duplicate': 1, 'if': 1, 'any': 1, 'prob': 1, 'call': 1, 'me': 1, 'for': 3, 'details': 1, 'good': 1, 'running': 1, 'conditions': 1, 'no': 1, 'need': 1, 'repairs': 1, 'price': 2, 'original': 2, 'can': 1, 'not': 1, 'be': 1, 'negotiated': 1, 'due': 1, 'to': 1, 'reason': 1, 'of': 1, 'best': 1, 'has': 1, 'been': 1, 'given': 1, 'and': 1, 'quick': 1, 'expect': 1}\n",
      "{'mittshubhishi': 1, 'montero': 1, 'sports': 1, 'registered': 2, 'full': 1, 'option': 1, 'multifuntion': 1, 'automatic': 1, 'trip': 1, 'tonic': 1, 'cc': 1, 'ks': 1, 'xxx': 1, 'genuine': 1, 'mileage': 1, 'km': 1, 'beige': 1, 'interior': 2, 'with': 2, 'fabric': 1, 'seat': 1, 'covers': 1, 'very': 2, 'clean': 1, 'seater': 1, 'rd': 1, 'raw': 1, 'ac': 1, 'new': 1, 'battery': 1, 'serviced': 1, 'and': 2, 'maintained': 1, 'by': 1, 'the': 1, 'company': 1, 'accident': 1, 'free': 1, 'original': 1, 'paint': 1, 'carefully': 1, 'home': 1, 'used': 1, 'vehicle': 1, 'gps': 1, 'navi': 1, 'tv': 1, 'dvd': 1, 'reverse': 1, 'camera': 1, 'usb': 1, 'bt': 1, 'ipod': 1, 'aux': 1, 'owner': 1}\n",
      "{'honda': 2, 'cr': 1, 'rd': 1, 'model': 1, 'automatic': 1, 'gear': 1, 'system': 1, 'fully': 3, 'loaded': 1, 'with': 2, 'power': 2, 'steering': 1, 'shutters': 1, 'dual': 1, 'airbags': 1, 'abs': 1, 'fog': 1, 'lamps': 1, 'adjustment': 1, 'seats': 1, 'front': 1, 'rear': 1, 'hand': 1, 'rests': 1, 'original': 1, 'alloy': 1, 'wheels': 1, 'party': 1, 'table': 2, 'snacks': 1, 'charger': 1, 'room': 1, 'dvd': 1, 'player': 1, 'reverse': 1, 'camera': 1, 'new': 2, 'tire': 1, 'battery': 1, 'big': 1, 'cargo': 1, 'space': 1, 'well': 1, 'maintenance': 1, 'look': 1, 'like': 1, 'toyota': 1, 'fortuner': 1, 'luxury': 1, 'and': 1, 'vip': 1, 'vehicle': 3, 'this': 1, 'ingress': 1, 'your': 1, 'respect': 1, 'comfortable': 1, 'many': 1, 'others': 1, 'etc': 1}\n",
      "{'nissan': 1, 'pulsar': 1, 'home': 1, 'use': 1, 'car': 1, 'showroom': 1, 'condition': 1, 'original': 1, 'book': 1, 'japan': 1, 'cc': 1, 'auto': 1, 'gear': 1, 'full': 1, 'option': 1, 'power': 2, 'shatter': 1, 'mirror': 3, 'retract': 1, 'rpm': 1, 'abs': 1, 'break': 1, 'duel': 1, 'air': 1, 'bag': 1, 'touch': 2, 'ac': 1, 'reverse': 1, 'sensor': 1, 'fog': 1, 'lamps': 1, 'dvd': 1, 'screen': 1, 'security': 1, 'alarm': 1, 'remote': 1, 'key': 1, 'spoiler': 1, 'with': 2, 'led': 1, 'light': 1, 'allow': 1, 'wheel': 1, 'bran': 1, 'new': 2, 'tyre': 1, 'night': 1, 'vision': 1, 'camara': 1, 'side': 1, 'door': 1, 'curtain': 1, 'brand': 1, 'sound': 1, 'speakers': 1, 'big': 1, 'center': 1, 'tan': 1, 'premium': 1, 'lether': 1, 'seat': 1, 'red': 1, 'interior': 1, 'many': 1, 'more': 1, 'options': 1, 'have': 1}\n",
      "{'with': 1, 'full': 1, 'option': 1, 'micro': 1, 'trend': 1, 'manual': 1, 'cc': 1, 'alloy': 1, 'wheels': 1, 'center': 1, 'lock': 1, 'cd': 1, 'player': 1, 'power': 1, 'shutter': 1, 'orginal': 1, 'paint': 1, 'good': 1, 'condition': 1, 'call': 1, 'for': 1, 'more': 1, 'information': 1}\n",
      "{'price': 1, 'reduced': 1, 'for': 2, 'quick': 1, 'sale': 2, 'land': 2, 'in': 2, 'kandy': 2, 'lake': 1, 'round': 1, 'saranankara': 1, 'road': 1, 'very': 1, 'close': 1, 'to': 1, 'ozo': 1, 'perches': 1, 'with': 2, 'old': 1, 'bungalow': 1, 'bedroom': 1, 'all': 1, 'attached': 1, 'bathroom': 1, 'good': 1, 'condition': 1, 'rs': 1, 'million': 1, 'per': 1, 'perch': 1, 'negotiable': 1, 'value': 1, 'only': 1}\n",
      "{'land': 2, 'facing': 1, 'old': 1, 'galle': 1, 'road': 1, 'with': 1, 'house': 1, 'front': 1, 'of': 1, 'bus': 1, 'stand': 1, 'minutes': 1, 'drive': 1, 'to': 1, 'moratuwa': 1, 'town': 1, 'perches': 1, 'per': 1, 'perch': 1, 'perfect': 1, 'place': 1, 'nice': 1, 'and': 1, 'quiet': 1, 'surrounding': 1, 'strictly': 1, 'no': 1, 'brokers': 1, 'contact': 1, 'me': 1, 'for': 1, 'more': 1, 'info': 1}\n",
      "{'address': 1, 'watathenna': 1, 'haloluwa': 1, 'size': 1, 'st': 1, 'inside': 1, 'the': 1, 'store': 1, 'length': 1, 'cm': 2, 'and': 2, 'width': 1, 'parking': 1, 'area': 1, 'ft': 1, 'tiled': 1, 'floor': 1, 'separate': 1, 'water': 1, 'electricity': 1, 'with': 1, 'all': 1, 'other': 1, 'facilities': 1, 'rs': 1}\n",
      "{'colombo': 1, 'castle': 2, 'street': 2, 'commercial': 1, 'property': 1, 'available': 1, 'for': 2, 'lease': 1, 'sq': 1, 'ft': 1, 'office': 1, 'space': 1, 'with': 1, 'parking': 1, 'facilities': 1, 'on': 1, 'main': 1, 'road': 1, 'in': 1, 'front': 1, 'of': 1, 'hospital': 1, 'women': 1, 'contact': 1}\n",
      "{'shop': 1, 'office': 1, 'space': 1, 'for': 1, 'rent': 1, 'in': 1, 'the': 1, 'heart': 1, 'of': 1, 'wattala': 1, 'town': 1, 'facing': 1, 'colombo': 1, 'negombo': 1, 'road': 1, 'first': 1, 'floor': 2, 'separate': 1, 'electricity': 1, 'and': 1, 'water': 1, 'attached': 1, 'bathroom': 1, 'fully': 2, 'tiled': 1, 'front': 1, 'side': 1, 'covered': 1, 'with': 2, 'tempered': 1, 'glass': 1, 'hour': 1, 'protection': 1, 'cctv': 1, 'camera': 1}\n",
      "{'bare': 1, 'land': 3, 'for': 3, 'sale': 1, 'araly': 1, 'road': 1, 'jaffna': 2, 'larcham': 1, 'paddy': 1, 'minimum': 1, 'feet': 1, 'frontage': 1, 'located': 1, 'in': 1, 'prime': 1, 'location': 1, 'km': 1, 'from': 1, 'town': 1, 'clear': 1, 'documents': 1, 'this': 1, 'is': 1, 'an': 1, 'ideal': 1, 'investment': 1, 'opportunity': 1, 'property': 1, 'developers': 1, 'or': 2, 'to': 1, 'use': 1, 'commercial': 1, 'residential': 1, 'purposes': 1, 'million': 1, 'per': 1, 'larchem': 1, 'more': 1, 'information': 1}\n",
      "{'perchase': 1, 'bare': 1, 'lankd': 1, 'for': 1, 'sale': 1, 'battaramulla': 1, 'koswatta': 1, 'pipe': 1, 'road': 1, 'square': 1, 'block': 1, 'price': 2, 'per': 1, 'perch': 1, 'negotiable': 1}\n",
      "{'perches': 1, 'fully': 3, 'completed': 1, 'upstair': 1, 'house': 2, 'for': 1, 'sale': 1, 'homagama': 2, 'galavilawatta': 1, 'road': 2, 'hosptal': 1, 'sri': 1, 'lanka': 1, 'consist': 1, 'bedrooms': 1, 'bathroom': 1, 'living': 1, 'room': 1, 'dining': 1, 'kitchen': 1, 'veranda': 1, 'taitanium': 1, 'floor': 1, 'celing': 1, 'parapet': 1, 'wall': 1, 'vehicles': 1, 'parking': 1, 'space': 1, 'tapline': 1, 'water': 1, 'and': 1, 'all': 1, 'facilities': 1, 'clear': 1, 'deed': 1, 'very': 1, 'good': 1, 'environment': 1, 'to': 4, 'railway': 1, 'station': 1, 'min': 3, 'town': 2, 'kottawa': 1, 'highway': 1, 'entance': 1}\n",
      "{'do': 1, 'you': 1, 'need': 1, 'phone': 1, 'charger': 1, 'records': 2, 'videos': 2, 'hours': 3, 'full': 1, 'hd': 1, 'under': 1, 'low': 1, 'illumination': 1, 'date': 1, 'time': 1, 'voice': 1, 'all': 1, 'recorded': 1, 'inbuilt': 1, 'gb': 1, 'memory': 1, 'works': 1, 'continuously': 1, 'able': 1, 'to': 2, 'record': 2, 'and': 1, 'charge': 1, 'your': 2, 'device': 1, 'simultaneously': 1, 'after': 1, 'recording': 1, 'new': 1, 'clip': 1, 'overwrite': 1, 'the': 1, 'previous': 1, 'one': 1, 'motion': 1, 'detation': 1, 'video': 1, 'format': 1, 'optional': 1, 'usb': 1, 'interface': 1, 'with': 1, 'high': 1, 'speed': 1, 'transmission': 1, 'warranty': 1, 'months': 1, 'best': 1, 'option': 1, 'secretly': 1, 'in': 1, 'house': 1, 'office': 1, 'factory': 1, 'etc': 1}\n",
      "{'mint': 1, 'condition': 1, 'with': 3, 'box': 1, 'wireless': 1, 'joysticks': 1, 'and': 2, 'power': 1, 'supplier': 1, 'kinect': 4, 'sensor': 1, 'also': 1, 'included': 2, 'jtag': 1, 'modified': 1, 'cooling': 1, 'fan': 1, 'mode': 1, 'less': 1, 'heat': 1, 'gb': 1, 'hard': 1, 'disk': 1, 'rechargeable': 1, 'batteries': 1, 'battery': 1, 'charger': 1, 'games': 1, 'fifa': 1, 'wwe': 1, 'gta': 1, 'call': 2, 'of': 2, 'duty': 2, 'modern': 1, 'warfare': 1, 'advance': 1, 'wafare': 1, 'need': 2, 'for': 3, 'speed': 2, 'most': 1, 'wanted': 1, 'rivals': 1, 'grid': 1, 'split': 1, 'second': 1, 'tekken': 1, 'tag': 1, 'tournament': 1, 'mortal': 1, 'kombat': 1, 'resident': 1, 'eil': 1, 'revelation': 1, 'crysis': 1, 'watchdogs': 1, 'just': 1, 'dance': 1, 'advanture': 1, 'fable': 1, 'iii': 2, 'spec': 1, 'ops': 1, 'the': 1, 'line': 1, 'sniper': 1, 'elite': 1, 'battlefield': 1, 'contact': 1, 'me': 1, 'information': 1, 'price': 1, 'can': 1, 'be': 1, 'reduced': 1, 'no': 1, 'exchange': 1, 'only': 1, 'cash': 1}\n",
      "{'in': 2, 'superb': 1, 'condition': 1, 'whirlpool': 1, 'fridge': 2, 'available': 1, 'bought': 1, 'five': 1, 'years': 1, 'ago': 1, 'working': 1, 'like': 1, 'charm': 1, 'no': 1, 'issues': 1, 'whatsoever': 1, 'selling': 1, 'reason': 1, 'got': 1, 'an': 1, 'inverter': 1, 'one': 1, 'as': 2, 'gift': 1, 'used': 1, 'second': 1, 'biyagama': 1, 'area': 1}\n",
      "{'call': 1, 'us': 1, 'for': 2, 'repair': 1, 'your': 2, 'computer': 1, 'laptop': 1, 'we': 1, 'visit': 1, 'home': 1, 'institute': 1, 'place': 1, 'contact': 1, 'more': 1, 'details': 1}\n",
      "{'we': 1, 'have': 1, 'yamaha': 1, 'psr': 1, 'two': 1, 'key': 1, 'boards': 1, 'for': 1, 'the': 1, 'sales': 1, 'these': 1, 'are': 1, 'brand': 1, 'new': 1, 'condition': 1}\n",
      "{'brand': 1, 'new': 1, 'purchased': 1, 'barely': 1, 'months': 1, 'used': 1, 'cash': 1, 'register': 1, 'for': 1, 'sale': 1, 'with': 1, 'warranty': 1}\n",
      "{'technical': 1, 'information': 1, 'specifications': 1, 'generator': 1, 'brg': 1, 'output': 2, 'voltage': 1, 'ac': 1, 'hz': 1, 'continuous': 1, 'power': 3, 'rated': 1, 'maximum': 1, 'kva': 1, 'at': 3, 'factor': 1, 'of': 1, 'peak': 1, 'surge': 1, 'motor': 1, 'single': 1, 'cylinder': 1, 'stroke': 4, 'spark': 1, 'arrestor': 1, 'yes': 1, 'tank': 1, 'capacity': 1, 'noise': 1, 'level': 1, 'db': 1, 'weight': 1, 'kg': 1, 'approximate': 1, 'run': 1, 'time': 1, 'hours': 1, 'fuel': 2, 'unleaded': 2, 'petrol': 1, 'oil': 3, 'mix': 1, 'ml': 1}\n",
      "{'used': 2, 'aeg': 1, 'germany': 1, 'power': 1, 'tools': 1, 'lightly': 1, 'brought': 1, 'from': 2, 'australia': 1, 'speed': 1, 'drill': 2, 'river': 1, 'impact': 2, 'driver': 3, 'ah': 2, 'pro': 1, 'lithium': 1, 'batteries': 1, 'hour': 1, 'fast': 1, 'charger': 1, 'piece': 1, 'combo': 1, 'kit': 1, 'stage': 1, 'clutch': 1, 'settings': 1, 'led': 2, 'light': 2, 'single': 1, 'sleeve': 1, 'key': 1, 'less': 1, 'chuck': 1, 'brushed': 1, 'pole': 1, 'high': 1, 'capacity': 1, 'long': 1, 'stack': 1, 'motor': 1, 'industrial': 1, 'magnesium': 1, 'gearbox': 1, 'housing': 1, 'ex': 1, 'bit': 1, 'reception': 1, 'built': 1, 'in': 1, 'illuminates': 1, 'work': 1, 'surface': 1, 'triple': 1, 'protection': 1, 'electronics': 1, 'design': 1, 'protects': 1, 'battery': 1, 'overheating': 1, 'overloading': 1, 'overcharging': 1}\n",
      "{'benchmark': 1, 'international': 1, 'consultancy': 2, 'bic': 1, 'is': 1, 'proficient': 1, 'education': 1, 'firm': 1, 'which': 1, 'gives': 1, 'boundless': 1, 'study': 2, 'opportunities': 1, 'in': 1, 'new': 1, 'zealand': 1, 'we': 1, 'll': 1, 'show': 1, 'you': 2, 'the': 1, 'easiest': 1, 'way': 1, 'to': 1, 'get': 1, 'post': 1, 'work': 1, 'visa': 1, 'and': 1, 'pr': 1, 'if': 1, 'are': 1, 'interested': 1, 'pls': 1, 'contact': 1}\n",
      "{'local': 1, 'and': 3, 'cambridge': 1, 'english': 1, 'classes': 2, 'are': 3, 'available': 1, 'from': 2, 'grade': 1, 'our': 1, 'well': 1, 'organized': 1, 'we': 1, 'follow': 1, 'variety': 1, 'of': 1, 'innovative': 1, 'techniques': 1, 'to': 2, 'build': 2, 'practical': 1, 'language': 2, 'skills': 2, 'among': 1, 'students': 1, 'the': 2, 'syllabuses': 1, 'based': 1, 'on': 1, 'british': 1, 'curriculum': 1, 'aim': 1, 'student': 1, 'basics': 1}\n",
      "{'proofread': 1, 'edit': 1, 'in': 1, 'hours': 1, 'or': 1, 'less': 1, 'work': 1, 'report': 1, 'support': 1, 'assignment': 1, 'proofing': 1, 'homework': 1, 'typing': 2, 'assist': 1, 'letter': 1, 'writing': 1, 'editing': 1, 'contact': 1, 'us': 1, 'for': 1, 'all': 1, 'your': 1, 'and': 1, 'proofreading': 1, 'today': 1}\n",
      "{'and': 2, 'classes': 1, 'colombo': 1, 'suburbs': 1, 'sinhala': 1, 'or': 1, 'english': 1, 'medium': 1, 'chartered': 1, 'accountant': 1, 'graduate': 1, 'of': 1, 'usjp': 1}\n",
      "{'the': 2, 'edx': 1, 'academy': 1, 'at': 1, 'wattala': 1, 'infront': 1, 'of': 1, 'st': 1, 'anthonies': 1, 'college': 1, 'offers': 1, 'group': 1, 'classes': 1, 'for': 1, 'cambridge': 1, 'and': 3, 'edexcel': 1, 'ol': 1, 'al': 1, 'curriculums': 1, 'maths': 1, 'physics': 1, 'chemistry': 1, 'commerce': 1, 'sinhala': 1}\n",
      "{'the': 3, 'edx': 1, 'institute': 1, 'located': 1, 'in': 2, 'wattala': 1, 'infront': 1, 'of': 1, 'st': 1, 'anthonies': 1, 'college': 1, 'is': 1, 'conducted': 1, 'group': 1, 'classes': 2, 'for': 1, 'cambridge': 1, 'and': 3, 'edexcel': 1, 'ol': 1, 'al': 1, 'exams': 1, 'maths': 1, 'physics': 1, 'biology': 1, 'chemistry': 1, 'sinhala': 1, 'with': 1, 'all': 1, 'required': 1, 'practicals': 1, 'science': 1, 'subjects': 1}\n",
      "{'lady': 1, 'trained': 1, 'graduate': 1, 'offers': 1, 'english': 2, 'language': 1, 'for': 2, 'national': 1, 'edexcel': 1, 'cambridge': 1, 'syllabus': 1, 'from': 1, 'grade': 1, 'to': 1, 'ol': 1, 'and': 1, 'al': 1, 'ielts': 1, 'academic': 1, 'general': 1, 'undergone': 1, 'training': 1, 'in': 2, 'england': 1, 'proven': 1, 'results': 1, 'spoken': 1, 'school': 1, 'leavers': 1, 'small': 1, 'groups': 1, 'at': 1, 'mirriswatta': 1, 'piliyandala': 1}\n",
      "{'am': 1, 'post': 1, 'student': 2, 'currently': 2, 'expecting': 1, 'university': 1, 'entry': 1, 'for': 2, 'electronic': 1, 'engineering': 1, 'have': 2, 'good': 1, 'knowledge': 1, 'about': 2, 'the': 5, 'syllabus': 2, 'and': 2, 'poor': 1, 'teaching': 2, 'methods': 1, 'teachers': 1, 'will': 1, 'traditionally': 1, 'use': 1, 'individual': 1, 'tuition': 1, 'classes': 2, 'around': 2, 'colombo': 2, 'grade': 3, 'whole': 1, 'coverage': 1, 'special': 1, 'mathematical': 1, 'techniques': 1, 'to': 2, 'get': 1, 'better': 1, 'understanding': 1, 'subject': 1, 'practice': 1, 'makes': 1, 'perfect': 1, 'call': 1, 'me': 1, 'arrange': 1, 'your': 1, 'today': 1, 'home': 1, 'visits': 1, 'per': 2, 'visit': 2}\n"
     ]
    }
   ],
   "source": [
    "csv_file = open(\"ad_data.csv\", \"w\")\n",
    "\n",
    "for w in dic:\n",
    "    csv_file.write(\"%s,\"%(w))\n",
    "\n",
    "\n",
    "csv_file.write(\"class\\n\")\n",
    "    \n",
    "for elem in classes:\n",
    "    path = os.path.join(root,elem)\n",
    "    folder_content = os.listdir(path)\n",
    "    j = 0\n",
    "    #print(path, folder_content)\n",
    "    for file in folder_content:\n",
    "        newpath = os.path.join(path,file)\n",
    "        content = open(newpath, encoding=\"utf8\").read()\n",
    "        words = re.split('[^a-zA-Z]',content)\n",
    "        \n",
    "        new_wordlist = []\n",
    "        for w in words:\n",
    "            if len(w) > 1:\n",
    "                new_wordlist.append(w.strip().lower())\n",
    "        \n",
    "        doc_dic = {}\n",
    "        for w in new_wordlist:\n",
    "            if w not in doc_dic:\n",
    "                doc_dic[w] = 1\n",
    "            else:\n",
    "                doc_dic[w] = doc_dic[w] + 1\n",
    "                \n",
    "        for wd in dic:\n",
    "            if wd not in doc_dic:\n",
    "                csv_file.write(\"%s,\"%(doc_dic[w]))\n",
    "            else:\n",
    "                csv_file.write(\"0,\")\n",
    "        if elem == 'vehicle' :\n",
    "            csv_file.write(\"0\\n\")\n",
    "        elif elem == 'property' :\n",
    "            csv_file.write(\"1\\n\")\n",
    "        elif elem == 'electronic' :\n",
    "            csv_file.write(\"2\\n\")\n",
    "        elif elem == 'education' :\n",
    "            csv_file.write(\"3\\n\")\n",
    "                \n",
    "        #data spliting\n",
    "        print(doc_dic)\n",
    "        j = j+1\n",
    "    \n",
    "        if(j == 8):\n",
    "            break"
   ]
  },
  {
   "cell_type": "code",
   "execution_count": null,
   "metadata": {
    "collapsed": true
   },
   "outputs": [],
   "source": []
  }
 ],
 "metadata": {
  "kernelspec": {
   "display_name": "Python 3",
   "language": "python",
   "name": "python3"
  },
  "language_info": {
   "codemirror_mode": {
    "name": "ipython",
    "version": 3
   },
   "file_extension": ".py",
   "mimetype": "text/x-python",
   "name": "python",
   "nbconvert_exporter": "python",
   "pygments_lexer": "ipython3",
   "version": "3.6.1"
  }
 },
 "nbformat": 4,
 "nbformat_minor": 2
}
